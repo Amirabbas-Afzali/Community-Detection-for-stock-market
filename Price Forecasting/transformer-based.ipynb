{
 "cells": [
  {
   "cell_type": "code",
   "execution_count": 2,
   "metadata": {},
   "outputs": [],
   "source": [
    "\n",
    "import torch\n",
    "import torch.nn as nn\n",
    "from torch.nn import TransformerEncoder, TransformerEncoderLayer"
   ]
  },
  {
   "cell_type": "code",
   "execution_count": 35,
   "metadata": {},
   "outputs": [],
   "source": [
    "import torch\n",
    "import torch.nn as nn\n",
    "import torch.nn.functional as F\n",
    "from torch.nn import TransformerEncoder, TransformerEncoderLayer\n",
    "\n",
    "# Define the TransformerEncoderModel\n",
    "class TransformerEncoderModel(nn.Module):\n",
    "    def __init__(self, input_dim, hidden_dim, num_layers, num_heads):\n",
    "        super(TransformerEncoderModel, self).__init__()\n",
    "        self.hidden_dim = hidden_dim\n",
    "        self.embedding = nn.Linear(input_dim, hidden_dim)\n",
    "        encoder_layers = TransformerEncoderLayer(hidden_dim, num_heads)\n",
    "        self.transformer_encoder = TransformerEncoder(encoder_layers, num_layers)\n",
    "        \n",
    "    def forward(self, x):\n",
    "        x = self.embedding(x)\n",
    "        x = x.permute(1, 0, 2)  # Reshape to (seq_len, batch_size, hidden_dim)\n",
    "        output = self.transformer_encoder(x)\n",
    "        output = output.permute(1, 0, 2)  # Reshape back to (batch_size, seq_len, hidden_dim)\n",
    "        return output\n",
    "\n",
    "# Example usage\n",
    "input_dim = 10  # Dimension of each time step in the time series\n",
    "hidden_dim = 64  # Hidden dimension of the transformer\n",
    "num_layers = 6  # Number of transformer encoder layers\n",
    "num_heads = 8  # Number of attention heads\n",
    "\n",
    "# Create an instance of the TransformerEncoderModel\n",
    "model = TransformerEncoderModel(input_dim, hidden_dim, num_layers, num_heads)\n",
    "\n",
    "# Generate some dummy time series data\n",
    "batch_size = 16\n",
    "seq_len = 100\n",
    "time_series = torch.randn(batch_size, seq_len, input_dim)\n",
    "\n",
    "# Pass the time series through the transformer encoder\n",
    "encoded_time_series = model(time_series)    # shape (batch_size, seq_len, hidden_dim)\n"
   ]
  },
  {
   "cell_type": "code",
   "execution_count": 36,
   "metadata": {},
   "outputs": [
    {
     "data": {
      "text/plain": [
       "torch.Size([16, 100, 64])"
      ]
     },
     "execution_count": 36,
     "metadata": {},
     "output_type": "execute_result"
    }
   ],
   "source": [
    "encoded_time_series.shape"
   ]
  },
  {
   "cell_type": "markdown",
   "metadata": {},
   "source": [
    "---"
   ]
  },
  {
   "cell_type": "code",
   "execution_count": 1,
   "metadata": {},
   "outputs": [],
   "source": [
    "import torch\n",
    "import torch.nn as nn\n",
    "from torch.autograd import Variable\n",
    "import pandas as pd\n",
    "import seaborn as sns\n",
    "import matplotlib.pyplot as plt"
   ]
  },
  {
   "cell_type": "code",
   "execution_count": 3,
   "metadata": {},
   "outputs": [
    {
     "data": {
      "text/plain": [
       "device(type='cuda')"
      ]
     },
     "execution_count": 3,
     "metadata": {},
     "output_type": "execute_result"
    }
   ],
   "source": [
    "device = torch.device(\"cuda\" if torch.cuda.is_available() else \"cpu\")\n",
    "device"
   ]
  },
  {
   "cell_type": "code",
   "execution_count": 11,
   "metadata": {},
   "outputs": [],
   "source": [
    "import torch\n",
    "import torch.nn as nn\n",
    "import torch.nn.functional as F\n",
    "from torch.nn import TransformerEncoder, TransformerEncoderLayer\n",
    "\n",
    "# Define the TransformerEncoderModel\n",
    "class TransformerEncoderModel(nn.Module):\n",
    "    def __init__(self, input_dim, hidden_dim, num_layers, num_heads):\n",
    "        super(TransformerEncoderModel, self).__init__()\n",
    "        self.hidden_dim = hidden_dim\n",
    "        self.embedding = nn.Linear(input_dim, hidden_dim)\n",
    "        encoder_layers = TransformerEncoderLayer(hidden_dim, num_heads)\n",
    "        self.transformer_encoder = TransformerEncoder(encoder_layers, num_layers)\n",
    "        \n",
    "    def forward(self, x):\n",
    "        x = self.embedding(x)\n",
    "        x = x.permute(1, 0, 2)  # Reshape to (seq_len, batch_size, hidden_dim)\n",
    "        output = self.transformer_encoder(x)\n",
    "        output = output.permute(1, 0, 2)  # Reshape back to (batch_size, seq_len, hidden_dim)\n",
    "        return output\n",
    "    \n",
    "\n",
    "# Define the full model\n",
    "class TimeSeriesEncoder(nn.Module):\n",
    "    def __init__(self, input_dim, hidden_dim, num_layers, num_heads):\n",
    "        super(TimeSeriesEncoder, self).__init__()\n",
    "        self.encoder_layer = TransformerEncoderModel(input_dim, hidden_dim, num_layers, num_heads)\n",
    "        self.fc1 = nn.Linear(hidden_dim*100,256)\n",
    "        self.fc2 = nn.Linear(256,256)\n",
    "        self.fc3 = nn.Linear(256,10)\n",
    "        self.relu = nn.ReLU()\n",
    "    \n",
    "        \n",
    "    def forward(self, x):\n",
    "        # x: [seq_len, batch_size, input_size]\n",
    "        encoding = self.encoder_layer(x)\n",
    "        # encoding: [seq_len, batch_size, hidden_size]\n",
    "        encoding = encoding.reshape(encoding.shape[0],-1)\n",
    "\n",
    "        encoding = self.fc1(encoding)\n",
    "        encoding = self.relu(encoding)\n",
    "        \n",
    "        encoding = self.fc2(encoding)\n",
    "        encoding = self.relu(encoding)\n",
    "        \n",
    "        encoding = self.fc3(encoding)\n",
    "\n",
    "\n",
    "        return encoding\n",
    "\n",
    "\n",
    "# Example usage\n",
    "input_dim = 5  # Dimension of each time step in the time series\n",
    "hidden_dim = 64  # Hidden dimension of the transformer\n",
    "num_layers = 3  # Number of transformer encoder layers\n",
    "num_heads = 8  # Number of attention heads\n",
    "\n",
    "\n",
    "model = TimeSeriesEncoder(input_dim, hidden_dim, num_layers, num_heads).to(device=device)\n",
    "\n",
    "\n",
    "# Generate some dummy time series data\n",
    "batch_size = 16\n",
    "seq_len = 100\n",
    "time_series = torch.randn(batch_size, seq_len, input_dim).to(device=device)\n",
    "\n",
    "# Pass the time series through the transformer encoder\n",
    "encoded_time_series = model(time_series)    # shape (batch_size, seq_len, hidden_dim)\n"
   ]
  },
  {
   "cell_type": "code",
   "execution_count": 12,
   "metadata": {},
   "outputs": [
    {
     "data": {
      "text/plain": [
       "torch.Size([16, 10])"
      ]
     },
     "execution_count": 12,
     "metadata": {},
     "output_type": "execute_result"
    }
   ],
   "source": [
    "encoded_time_series.shape"
   ]
  },
  {
   "cell_type": "markdown",
   "metadata": {},
   "source": [
    "Prepare dataset:"
   ]
  },
  {
   "cell_type": "code",
   "execution_count": 14,
   "metadata": {},
   "outputs": [],
   "source": [
    "ratio = 'BTC-USD'\n",
    "dataset = f'crypto_data/{ratio}.csv' \n",
    "data = pd.read_csv(dataset, names=['time', 'low', 'high', 'open', 'close', 'volume'])  # read in specific file\n"
   ]
  },
  {
   "cell_type": "code",
   "execution_count": 15,
   "metadata": {},
   "outputs": [],
   "source": [
    "import pandas as pd\n",
    "import numpy as np\n",
    "\n",
    "# Normalize the data\n",
    "data = (data - data.mean()) / data.std()\n",
    "\n",
    "# Convert the DataFrame to a Torch tensor\n",
    "data_tensor = torch.from_numpy(data.values).float()\n",
    "\n",
    "# Split the data into input and target sequences\n",
    "input_seq = []\n",
    "target_seq = []\n",
    "seq_length = 100\n",
    "pred_length = 10\n",
    "\n",
    "for i in range(len(data) - seq_length - pred_length):\n",
    "    input_seq.append(data_tensor[i:i+seq_length, 1:])\n",
    "    target_seq.append(data_tensor[i+seq_length:i+seq_length+pred_length, -2])"
   ]
  },
  {
   "cell_type": "markdown",
   "metadata": {},
   "source": [
    "target $\\rightarrow$ close"
   ]
  },
  {
   "cell_type": "code",
   "execution_count": 16,
   "metadata": {},
   "outputs": [
    {
     "data": {
      "text/plain": [
       "(torch.Size([100, 5]), 97614)"
      ]
     },
     "execution_count": 16,
     "metadata": {},
     "output_type": "execute_result"
    }
   ],
   "source": [
    "input_seq[0].shape , len(input_seq)"
   ]
  },
  {
   "cell_type": "code",
   "execution_count": 17,
   "metadata": {},
   "outputs": [
    {
     "data": {
      "text/plain": [
       "torch.Size([10])"
      ]
     },
     "execution_count": 17,
     "metadata": {},
     "output_type": "execute_result"
    }
   ],
   "source": [
    "target_seq[0].shape"
   ]
  },
  {
   "cell_type": "code",
   "execution_count": 18,
   "metadata": {},
   "outputs": [],
   "source": [
    "input_seq = torch.stack(input_seq)\n",
    "target_seq = torch.stack(target_seq)"
   ]
  },
  {
   "cell_type": "code",
   "execution_count": 19,
   "metadata": {},
   "outputs": [
    {
     "data": {
      "text/plain": [
       "(torch.Size([97614, 100, 5]), torch.Size([97614, 10]))"
      ]
     },
     "execution_count": 19,
     "metadata": {},
     "output_type": "execute_result"
    }
   ],
   "source": [
    "input_seq.shape , target_seq.shape"
   ]
  },
  {
   "cell_type": "markdown",
   "metadata": {},
   "source": [
    " Define the loss function and the optimizer :\n"
   ]
  },
  {
   "cell_type": "code",
   "execution_count": 22,
   "metadata": {},
   "outputs": [],
   "source": [
    "num_epochs = 100\n",
    "learning_rate = 0.001\n",
    "\n",
    "batch_size = 32  # Set your desired batch size"
   ]
  },
  {
   "cell_type": "code",
   "execution_count": 24,
   "metadata": {},
   "outputs": [],
   "source": [
    "\n",
    "criterion = nn.MSELoss()\n",
    "optimizer = torch.optim.Adam(model.parameters(), lr=learning_rate)"
   ]
  },
  {
   "cell_type": "markdown",
   "metadata": {},
   "source": [
    " Train the model :\n"
   ]
  },
  {
   "cell_type": "code",
   "execution_count": 25,
   "metadata": {},
   "outputs": [],
   "source": [
    "from torch.utils.data import DataLoader,Dataset\n",
    "from tqdm import tqdm\n"
   ]
  },
  {
   "cell_type": "markdown",
   "metadata": {},
   "source": [
    "define `DataLoader` :"
   ]
  },
  {
   "cell_type": "code",
   "execution_count": 26,
   "metadata": {},
   "outputs": [],
   "source": [
    "class StockDataset(Dataset):\n",
    "    def __init__(self, X, y):\n",
    "        self.X = X\n",
    "        self.y = y\n",
    "\n",
    "    def __len__(self):\n",
    "        return len(self.X)\n",
    "\n",
    "    def __getitem__(self, idx):\n",
    "        return self.X[idx], self.y[idx]"
   ]
  },
  {
   "cell_type": "code",
   "execution_count": 27,
   "metadata": {},
   "outputs": [],
   "source": [
    "dataset = StockDataset(input_seq, target_seq)"
   ]
  },
  {
   "cell_type": "code",
   "execution_count": 28,
   "metadata": {},
   "outputs": [],
   "source": [
    "dataloader = DataLoader(dataset, batch_size=batch_size, shuffle=True)"
   ]
  },
  {
   "cell_type": "code",
   "execution_count": 29,
   "metadata": {},
   "outputs": [
    {
     "name": "stderr",
     "output_type": "stream",
     "text": [
      "  0%|          | 10/3051 [00:00<00:04, 613.53it/s]"
     ]
    },
    {
     "name": "stdout",
     "output_type": "stream",
     "text": [
      "torch.Size([32, 10])    <<>>    torch.Size([32, 100, 5])\n",
      "torch.Size([32, 10])    <<>>    torch.Size([32, 100, 5])\n",
      "torch.Size([32, 10])    <<>>    torch.Size([32, 100, 5])\n",
      "torch.Size([32, 10])    <<>>    torch.Size([32, 100, 5])\n",
      "torch.Size([32, 10])    <<>>    torch.Size([32, 100, 5])\n",
      "torch.Size([32, 10])    <<>>    torch.Size([32, 100, 5])\n",
      "torch.Size([32, 10])    <<>>    torch.Size([32, 100, 5])\n",
      "torch.Size([32, 10])    <<>>    torch.Size([32, 100, 5])\n",
      "torch.Size([32, 10])    <<>>    torch.Size([32, 100, 5])\n",
      "torch.Size([32, 10])    <<>>    torch.Size([32, 100, 5])\n",
      "torch.Size([32, 10])    <<>>    torch.Size([32, 100, 5])\n"
     ]
    },
    {
     "name": "stderr",
     "output_type": "stream",
     "text": [
      "\n"
     ]
    }
   ],
   "source": [
    "for batch_idx, (data, targets) in enumerate(tqdm(dataloader)):\n",
    "    print(targets.shape, \"   <<>>   \",data.shape)\n",
    "    \n",
    "    if batch_idx == 10:\n",
    "        break\n",
    "    "
   ]
  },
  {
   "cell_type": "code",
   "execution_count": 32,
   "metadata": {},
   "outputs": [
    {
     "data": {
      "text/plain": [
       "torch.Size([32, 10, 1])"
      ]
     },
     "execution_count": 32,
     "metadata": {},
     "output_type": "execute_result"
    }
   ],
   "source": [
    "model(torch.rand(32,100,5).to(device=device)).unsqueeze(-1).shape"
   ]
  },
  {
   "cell_type": "code",
   "execution_count": 33,
   "metadata": {},
   "outputs": [
    {
     "name": "stderr",
     "output_type": "stream",
     "text": [
      "100%|██████████| 3051/3051 [04:34<00:00, 11.13it/s]\n",
      "100%|██████████| 3051/3051 [04:32<00:00, 11.21it/s]\n",
      "100%|██████████| 3051/3051 [04:16<00:00, 11.88it/s]\n",
      "100%|██████████| 3051/3051 [00:52<00:00, 58.50it/s]\n",
      "100%|██████████| 3051/3051 [00:55<00:00, 54.84it/s]\n",
      "100%|██████████| 3051/3051 [00:53<00:00, 56.68it/s]\n",
      "100%|██████████| 3051/3051 [00:50<00:00, 60.72it/s]\n",
      "100%|██████████| 3051/3051 [00:49<00:00, 62.23it/s]\n",
      "100%|██████████| 3051/3051 [01:22<00:00, 37.08it/s]\n",
      "100%|██████████| 3051/3051 [00:53<00:00, 56.94it/s]\n"
     ]
    },
    {
     "name": "stdout",
     "output_type": "stream",
     "text": [
      "Epoch [10/100], Loss: 0.0002\n"
     ]
    },
    {
     "name": "stderr",
     "output_type": "stream",
     "text": [
      "100%|██████████| 3051/3051 [00:49<00:00, 61.97it/s]\n",
      "100%|██████████| 3051/3051 [00:48<00:00, 63.19it/s]\n",
      "100%|██████████| 3051/3051 [00:49<00:00, 62.01it/s]\n",
      "100%|██████████| 3051/3051 [00:48<00:00, 63.06it/s]\n",
      "100%|██████████| 3051/3051 [00:48<00:00, 62.61it/s]\n",
      "100%|██████████| 3051/3051 [00:49<00:00, 61.98it/s]\n",
      "100%|██████████| 3051/3051 [00:48<00:00, 62.63it/s]\n",
      "100%|██████████| 3051/3051 [00:49<00:00, 62.26it/s]\n",
      "100%|██████████| 3051/3051 [00:48<00:00, 62.61it/s]\n",
      "100%|██████████| 3051/3051 [00:48<00:00, 62.73it/s]\n"
     ]
    },
    {
     "name": "stdout",
     "output_type": "stream",
     "text": [
      "Epoch [20/100], Loss: 0.0006\n"
     ]
    },
    {
     "name": "stderr",
     "output_type": "stream",
     "text": [
      "100%|██████████| 3051/3051 [00:50<00:00, 60.85it/s]\n",
      "100%|██████████| 3051/3051 [00:51<00:00, 59.17it/s]\n",
      "100%|██████████| 3051/3051 [00:50<00:00, 60.84it/s]\n",
      "100%|██████████| 3051/3051 [00:51<00:00, 58.98it/s]\n",
      "100%|██████████| 3051/3051 [00:49<00:00, 61.80it/s]\n",
      "100%|██████████| 3051/3051 [00:49<00:00, 61.56it/s]\n",
      "100%|██████████| 3051/3051 [00:48<00:00, 62.64it/s]\n",
      "100%|██████████| 3051/3051 [00:48<00:00, 62.55it/s]\n",
      "100%|██████████| 3051/3051 [00:48<00:00, 63.04it/s]\n",
      "100%|██████████| 3051/3051 [00:48<00:00, 63.25it/s]\n"
     ]
    },
    {
     "name": "stdout",
     "output_type": "stream",
     "text": [
      "Epoch [30/100], Loss: 0.0003\n"
     ]
    },
    {
     "name": "stderr",
     "output_type": "stream",
     "text": [
      "100%|██████████| 3051/3051 [00:49<00:00, 61.96it/s]\n",
      "100%|██████████| 3051/3051 [00:49<00:00, 61.52it/s]\n",
      "100%|██████████| 3051/3051 [00:48<00:00, 63.23it/s]\n",
      "100%|██████████| 3051/3051 [00:48<00:00, 63.20it/s]\n",
      "100%|██████████| 3051/3051 [00:48<00:00, 63.23it/s]\n",
      "100%|██████████| 3051/3051 [00:48<00:00, 63.17it/s]\n",
      "100%|██████████| 3051/3051 [00:48<00:00, 63.13it/s]\n",
      "100%|██████████| 3051/3051 [00:48<00:00, 63.14it/s]\n",
      "100%|██████████| 3051/3051 [00:48<00:00, 63.22it/s]\n",
      "100%|██████████| 3051/3051 [00:48<00:00, 63.20it/s]\n"
     ]
    },
    {
     "name": "stdout",
     "output_type": "stream",
     "text": [
      "Epoch [40/100], Loss: 0.0003\n"
     ]
    },
    {
     "name": "stderr",
     "output_type": "stream",
     "text": [
      "100%|██████████| 3051/3051 [00:49<00:00, 62.15it/s]\n",
      "100%|██████████| 3051/3051 [00:48<00:00, 63.16it/s]\n",
      "100%|██████████| 3051/3051 [00:48<00:00, 62.36it/s]\n",
      "100%|██████████| 3051/3051 [02:37<00:00, 19.41it/s]\n",
      "100%|██████████| 3051/3051 [00:57<00:00, 53.14it/s]\n",
      "100%|██████████| 3051/3051 [00:59<00:00, 50.91it/s]\n",
      "100%|██████████| 3051/3051 [00:59<00:00, 51.51it/s]\n",
      "100%|██████████| 3051/3051 [01:11<00:00, 42.40it/s]\n",
      "100%|██████████| 3051/3051 [01:06<00:00, 45.75it/s]\n",
      "100%|██████████| 3051/3051 [00:57<00:00, 52.80it/s]\n"
     ]
    },
    {
     "name": "stdout",
     "output_type": "stream",
     "text": [
      "Epoch [50/100], Loss: 0.0011\n"
     ]
    },
    {
     "name": "stderr",
     "output_type": "stream",
     "text": [
      "100%|██████████| 3051/3051 [00:54<00:00, 55.99it/s]\n",
      "100%|██████████| 3051/3051 [00:52<00:00, 58.33it/s]\n",
      "100%|██████████| 3051/3051 [00:48<00:00, 62.85it/s]\n",
      "100%|██████████| 3051/3051 [00:48<00:00, 63.01it/s]\n",
      "100%|██████████| 3051/3051 [00:47<00:00, 64.25it/s]\n",
      "100%|██████████| 3051/3051 [00:46<00:00, 65.60it/s]\n",
      "100%|██████████| 3051/3051 [00:46<00:00, 65.19it/s]\n",
      "100%|██████████| 3051/3051 [00:46<00:00, 65.21it/s]\n",
      "100%|██████████| 3051/3051 [00:47<00:00, 64.51it/s]\n",
      "100%|██████████| 3051/3051 [00:47<00:00, 64.69it/s]\n"
     ]
    },
    {
     "name": "stdout",
     "output_type": "stream",
     "text": [
      "Epoch [60/100], Loss: 0.0004\n"
     ]
    },
    {
     "name": "stderr",
     "output_type": "stream",
     "text": [
      "100%|██████████| 3051/3051 [00:47<00:00, 64.71it/s]\n",
      "100%|██████████| 3051/3051 [00:47<00:00, 64.05it/s]\n",
      "100%|██████████| 3051/3051 [00:47<00:00, 64.22it/s]\n",
      "100%|██████████| 3051/3051 [00:47<00:00, 64.10it/s]\n",
      "100%|██████████| 3051/3051 [00:47<00:00, 64.31it/s]\n",
      "100%|██████████| 3051/3051 [00:47<00:00, 64.36it/s]\n",
      "100%|██████████| 3051/3051 [00:49<00:00, 61.50it/s]\n",
      "100%|██████████| 3051/3051 [00:48<00:00, 63.06it/s]\n",
      "100%|██████████| 3051/3051 [00:49<00:00, 62.00it/s]\n",
      "100%|██████████| 3051/3051 [00:49<00:00, 62.15it/s]\n"
     ]
    },
    {
     "name": "stdout",
     "output_type": "stream",
     "text": [
      "Epoch [70/100], Loss: 0.0006\n"
     ]
    },
    {
     "name": "stderr",
     "output_type": "stream",
     "text": [
      "100%|██████████| 3051/3051 [00:49<00:00, 62.25it/s]\n",
      "100%|██████████| 3051/3051 [00:49<00:00, 62.05it/s]\n",
      "100%|██████████| 3051/3051 [00:49<00:00, 62.10it/s]\n",
      "100%|██████████| 3051/3051 [00:49<00:00, 61.97it/s]\n",
      "100%|██████████| 3051/3051 [00:48<00:00, 62.29it/s]\n",
      "100%|██████████| 3051/3051 [00:49<00:00, 62.07it/s]\n",
      "100%|██████████| 3051/3051 [00:49<00:00, 62.11it/s]\n",
      "100%|██████████| 3051/3051 [00:49<00:00, 62.05it/s]\n",
      "100%|██████████| 3051/3051 [00:48<00:00, 62.31it/s]\n",
      "100%|██████████| 3051/3051 [00:49<00:00, 62.17it/s]\n"
     ]
    },
    {
     "name": "stdout",
     "output_type": "stream",
     "text": [
      "Epoch [80/100], Loss: 0.0003\n"
     ]
    },
    {
     "name": "stderr",
     "output_type": "stream",
     "text": [
      "100%|██████████| 3051/3051 [00:48<00:00, 62.30it/s]\n",
      "100%|██████████| 3051/3051 [00:49<00:00, 62.10it/s]\n",
      "100%|██████████| 3051/3051 [00:49<00:00, 62.16it/s]\n",
      "100%|██████████| 3051/3051 [00:49<00:00, 62.25it/s]\n",
      "100%|██████████| 3051/3051 [00:49<00:00, 62.22it/s]\n",
      "100%|██████████| 3051/3051 [00:49<00:00, 62.22it/s]\n",
      "100%|██████████| 3051/3051 [00:49<00:00, 61.34it/s]\n",
      "100%|██████████| 3051/3051 [00:49<00:00, 61.70it/s]\n",
      "100%|██████████| 3051/3051 [00:49<00:00, 61.64it/s]\n",
      "100%|██████████| 3051/3051 [00:50<00:00, 60.44it/s]\n"
     ]
    },
    {
     "name": "stdout",
     "output_type": "stream",
     "text": [
      "Epoch [90/100], Loss: 0.0007\n"
     ]
    },
    {
     "name": "stderr",
     "output_type": "stream",
     "text": [
      "100%|██████████| 3051/3051 [00:49<00:00, 62.10it/s]\n",
      "100%|██████████| 3051/3051 [00:49<00:00, 62.09it/s]\n",
      "100%|██████████| 3051/3051 [00:49<00:00, 62.25it/s]\n",
      "100%|██████████| 3051/3051 [00:49<00:00, 62.07it/s]\n",
      "100%|██████████| 3051/3051 [00:49<00:00, 62.06it/s]\n",
      "100%|██████████| 3051/3051 [00:49<00:00, 62.11it/s]\n",
      "100%|██████████| 3051/3051 [00:49<00:00, 61.81it/s]\n",
      "100%|██████████| 3051/3051 [00:49<00:00, 62.26it/s]\n",
      "100%|██████████| 3051/3051 [00:49<00:00, 62.21it/s]\n",
      "100%|██████████| 3051/3051 [00:49<00:00, 62.01it/s]\n"
     ]
    },
    {
     "name": "stdout",
     "output_type": "stream",
     "text": [
      "Epoch [100/100], Loss: 0.0006\n"
     ]
    }
   ],
   "source": [
    "# Train Network\n",
    "for epoch in range(num_epochs):\n",
    "    # losses = []\n",
    "\n",
    "    for batch_idx, (data, targets) in enumerate(tqdm(dataloader)):\n",
    "        # Get data to cuda if possible\n",
    "        data = data.to(device=device)\n",
    "        targets = targets.to(device=device)\n",
    "\n",
    "        # forward\n",
    "        scores = model(data).unsqueeze(-1)\n",
    "        #print(scores.shape,\"************\",targets.unsqueeze(2).shape)\n",
    "        loss = criterion(scores, targets.unsqueeze(2))\n",
    "\n",
    "        #losses.append(loss.item())\n",
    "        # backward\n",
    "        optimizer.zero_grad()\n",
    "        loss.backward()\n",
    "\n",
    "        # gradient descent or adam step\n",
    "        optimizer.step()\n",
    "\n",
    "    if (epoch+1) % 10 == 0:\n",
    "        print('Epoch [{}/{}], Loss: {:.4f}'.format(epoch+1, num_epochs, loss.item()))  # incorrect"
   ]
  },
  {
   "cell_type": "markdown",
   "metadata": {},
   "source": [
    "# Evaluation :"
   ]
  },
  {
   "cell_type": "code",
   "execution_count": 35,
   "metadata": {},
   "outputs": [],
   "source": [
    "ratio = 'BTC-USD'\n",
    "dataset = f'crypto_data/{ratio}.csv' \n",
    "data = pd.read_csv(dataset, names=['time', 'low', 'high', 'open', 'close', 'volume']) \n",
    "data = (data - data.mean()) / data.std()\n"
   ]
  },
  {
   "cell_type": "markdown",
   "metadata": {},
   "source": [
    "test 1:"
   ]
  },
  {
   "cell_type": "code",
   "execution_count": 46,
   "metadata": {},
   "outputs": [],
   "source": [
    "def plot_resualt(start_index):\n",
    "    test_input = data.loc[start_index:start_index+99]\n",
    "    test_target = data.loc[start_index+99:start_index+99+9]\n",
    "    output = torch.tensor(test_target.values)[:,-2].to(device=device)\n",
    "    input = torch.tensor(test_input.values[:,1:],dtype=torch.float).unsqueeze(0).to(device=device)\n",
    "    pred = model(input)\n",
    "\n",
    "    pred_ = torch.Tensor.detach(torch.Tensor.cpu(pred.view(-1))).numpy()\n",
    "    output_ = torch.Tensor.detach(torch.Tensor.cpu(output.view(-1))).numpy()\n",
    "\n",
    "    sns.lineplot(pred_,marker='o')\n",
    "    sns.lineplot(output_,color='r',marker='o')\n",
    "    plt.legend(['close prediction','Truth']);"
   ]
  },
  {
   "cell_type": "code",
   "execution_count": 84,
   "metadata": {},
   "outputs": [
    {
     "data": {
      "image/png": "[encoded data removed]",
      "text/plain": [
       "<Figure size 640x480 with 1 Axes>"
      ]
     },
     "metadata": {},
     "output_type": "display_data"
    }
   ],
   "source": [
    "plot_resualt(96610)"
   ]
  },
  {
   "cell_type": "code",
   "execution_count": null,
   "metadata": {},
   "outputs": [],
   "source": []
  }
 ],
 "metadata": {
  "kernelspec": {
   "display_name": "Python 3.9.17 ('alzheimer')",
   "language": "python",
   "name": "python3"
  },
  "language_info": {
   "codemirror_mode": {
    "name": "ipython",
    "version": 3
   },
   "file_extension": ".py",
   "mimetype": "text/x-python",
   "name": "python",
   "nbconvert_exporter": "python",
   "pygments_lexer": "ipython3",
   "version": "3.9.17"
  },
  "orig_nbformat": 4,
  "vscode": {
   "interpreter": {
    "hash": "25b05e4795a1531d3b55a0058bc302082de6595a5bd8f40643b8c42ae422adc8"
   }
  }
 },
 "nbformat": 4,
 "nbformat_minor": 2
}
