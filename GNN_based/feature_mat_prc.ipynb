{
 "cells": [
  {
   "cell_type": "code",
   "execution_count": 1,
   "metadata": {},
   "outputs": [],
   "source": [
    "import numpy as np\n",
    "import pandas as pd"
   ]
  },
  {
   "cell_type": "code",
   "execution_count": 2,
   "metadata": {},
   "outputs": [],
   "source": [
    "AE_feature = np.load('../data/processed/AE_features.npy')"
   ]
  },
  {
   "cell_type": "code",
   "execution_count": 3,
   "metadata": {},
   "outputs": [
    {
     "data": {
      "text/plain": [
       "(5418, 64)"
      ]
     },
     "execution_count": 3,
     "metadata": {},
     "output_type": "execute_result"
    }
   ],
   "source": [
    "AE_feature.shape"
   ]
  },
  {
   "cell_type": "code",
   "execution_count": 32,
   "metadata": {},
   "outputs": [
    {
     "data": {
      "text/html": [
       "<div>\n",
       "<style scoped>\n",
       "    .dataframe tbody tr th:only-of-type {\n",
       "        vertical-align: middle;\n",
       "    }\n",
       "\n",
       "    .dataframe tbody tr th {\n",
       "        vertical-align: top;\n",
       "    }\n",
       "\n",
       "    .dataframe thead th {\n",
       "        text-align: right;\n",
       "    }\n",
       "</style>\n",
       "<table border=\"1\" class=\"dataframe\">\n",
       "  <thead>\n",
       "    <tr style=\"text-align: right;\">\n",
       "      <th></th>\n",
       "      <th>longBusinessSummary</th>\n",
       "      <th>country</th>\n",
       "      <th>industry</th>\n",
       "      <th>sector</th>\n",
       "      <th>forwardPE</th>\n",
       "      <th>beta</th>\n",
       "    </tr>\n",
       "  </thead>\n",
       "  <tbody>\n",
       "    <tr>\n",
       "      <th>OMER</th>\n",
       "      <td>Omeros Corporation, a clinical-stage biopharma...</td>\n",
       "      <td>United States</td>\n",
       "      <td>Biotechnology</td>\n",
       "      <td>Healthcare</td>\n",
       "      <td>-1.462687</td>\n",
       "      <td>0.957814</td>\n",
       "    </tr>\n",
       "    <tr>\n",
       "      <th>CGAU</th>\n",
       "      <td>Centerra Gold Inc., a gold mining company, eng...</td>\n",
       "      <td>Canada</td>\n",
       "      <td>Gold</td>\n",
       "      <td>Basic Materials</td>\n",
       "      <td>5.580645</td>\n",
       "      <td>1.039580</td>\n",
       "    </tr>\n",
       "    <tr>\n",
       "      <th>BFC</th>\n",
       "      <td>Bank First Corporation operates as a holding c...</td>\n",
       "      <td>United States</td>\n",
       "      <td>Banks—Regional</td>\n",
       "      <td>Financial Services</td>\n",
       "      <td>14.056655</td>\n",
       "      <td>0.340248</td>\n",
       "    </tr>\n",
       "    <tr>\n",
       "      <th>US.MI</th>\n",
       "      <td>UnipolSai Assicurazioni S.p.A. operates as an ...</td>\n",
       "      <td>Italy</td>\n",
       "      <td>Insurance—Diversified</td>\n",
       "      <td>Financial Services</td>\n",
       "      <td>8.307142</td>\n",
       "      <td>0.637387</td>\n",
       "    </tr>\n",
       "    <tr>\n",
       "      <th>001979.SZ</th>\n",
       "      <td>China Merchants Shekou Industrial Zone Holding...</td>\n",
       "      <td>China</td>\n",
       "      <td>Real Estate—Development</td>\n",
       "      <td>Real Estate</td>\n",
       "      <td>11.867925</td>\n",
       "      <td>0.335771</td>\n",
       "    </tr>\n",
       "  </tbody>\n",
       "</table>\n",
       "</div>"
      ],
      "text/plain": [
       "                                         longBusinessSummary        country  \\\n",
       "OMER       Omeros Corporation, a clinical-stage biopharma...  United States   \n",
       "CGAU       Centerra Gold Inc., a gold mining company, eng...         Canada   \n",
       "BFC        Bank First Corporation operates as a holding c...  United States   \n",
       "US.MI      UnipolSai Assicurazioni S.p.A. operates as an ...          Italy   \n",
       "001979.SZ  China Merchants Shekou Industrial Zone Holding...          China   \n",
       "\n",
       "                          industry              sector  forwardPE      beta  \n",
       "OMER                 Biotechnology          Healthcare  -1.462687  0.957814  \n",
       "CGAU                          Gold     Basic Materials   5.580645  1.039580  \n",
       "BFC                 Banks—Regional  Financial Services  14.056655  0.340248  \n",
       "US.MI        Insurance—Diversified  Financial Services   8.307142  0.637387  \n",
       "001979.SZ  Real Estate—Development         Real Estate  11.867925  0.335771  "
      ]
     },
     "execution_count": 32,
     "metadata": {},
     "output_type": "execute_result"
    }
   ],
   "source": [
    "My_Dataset2 = pd.read_csv('../data/processed/fundemental.csv',index_col=0)\n",
    "My_Dataset2.head()"
   ]
  },
  {
   "cell_type": "code",
   "execution_count": 33,
   "metadata": {},
   "outputs": [
    {
     "data": {
      "text/plain": [
       "(5418, 1)"
      ]
     },
     "execution_count": 33,
     "metadata": {},
     "output_type": "execute_result"
    }
   ],
   "source": [
    "beta = My_Dataset2['beta'].to_numpy().reshape(-1,1)\n",
    "beta.shape"
   ]
  },
  {
   "cell_type": "code",
   "execution_count": 34,
   "metadata": {},
   "outputs": [
    {
     "data": {
      "text/plain": [
       "(5418, 1)"
      ]
     },
     "execution_count": 34,
     "metadata": {},
     "output_type": "execute_result"
    }
   ],
   "source": [
    "forwardPE = My_Dataset2['forwardPE'].to_numpy().reshape(-1,1)\n",
    "forwardPE.shape"
   ]
  },
  {
   "cell_type": "markdown",
   "metadata": {},
   "source": [
    "One-hot Encoding :"
   ]
  },
  {
   "cell_type": "code",
   "execution_count": 7,
   "metadata": {},
   "outputs": [],
   "source": [
    "from sklearn.preprocessing import OneHotEncoder"
   ]
  },
  {
   "cell_type": "code",
   "execution_count": 8,
   "metadata": {},
   "outputs": [
    {
     "name": "stdout",
     "output_type": "stream",
     "text": [
      "(5418, 63)\n"
     ]
    }
   ],
   "source": [
    "country = My_Dataset2['country'].to_list()\n",
    "# Convert the categorical list to a 2D array\n",
    "categories_array = np.array(country).reshape(-1, 1)\n",
    "\n",
    "# Create an instance of the OneHotEncoder\n",
    "encoder = OneHotEncoder()\n",
    "\n",
    "# Fit and transform the categorical array\n",
    "one_hot_encoded = encoder.fit_transform(categories_array)\n",
    "\n",
    "# Convert the sparse matrix to a dense array\n",
    "one_hot_encoded_country = one_hot_encoded.toarray()\n",
    "\n",
    "# Print the one-hot encoded array\n",
    "print(one_hot_encoded_country.shape)"
   ]
  },
  {
   "cell_type": "code",
   "execution_count": 9,
   "metadata": {},
   "outputs": [
    {
     "name": "stdout",
     "output_type": "stream",
     "text": [
      "(5418, 11)\n"
     ]
    }
   ],
   "source": [
    "sector = My_Dataset2['sector'].to_list()\n",
    "\n",
    "categories_array = np.array(sector).reshape(-1, 1)\n",
    "\n",
    "# Create an instance of the OneHotEncoder\n",
    "encoder = OneHotEncoder()\n",
    "\n",
    "# Fit and transform the categorical array\n",
    "one_hot_encoded = encoder.fit_transform(categories_array)\n",
    "\n",
    "# Convert the sparse matrix to a dense array\n",
    "one_hot_encoded_sector = one_hot_encoded.toarray()\n",
    "\n",
    "# Print the one-hot encoded array\n",
    "print(one_hot_encoded_sector.shape)"
   ]
  },
  {
   "cell_type": "code",
   "execution_count": 10,
   "metadata": {},
   "outputs": [
    {
     "name": "stdout",
     "output_type": "stream",
     "text": [
      "(5418, 145)\n"
     ]
    }
   ],
   "source": [
    "industry = My_Dataset2['industry'].to_list()\n",
    "\n",
    "categories_array = np.array(industry).reshape(-1, 1)\n",
    "\n",
    "# Create an instance of the OneHotEncoder\n",
    "encoder = OneHotEncoder()\n",
    "\n",
    "# Fit and transform the categorical array\n",
    "one_hot_encoded = encoder.fit_transform(categories_array)\n",
    "\n",
    "# Convert the sparse matrix to a dense array\n",
    "one_hot_encoded_industry = one_hot_encoded.toarray()\n",
    "\n",
    "# Print the one-hot encoded array\n",
    "print(one_hot_encoded_industry.shape)"
   ]
  },
  {
   "cell_type": "code",
   "execution_count": 37,
   "metadata": {},
   "outputs": [],
   "source": [
    "featuremat2 = np.concatenate((AE_feature,beta,one_hot_encoded_country,\n",
    "                              one_hot_encoded_sector,one_hot_encoded_industry),axis=1)"
   ]
  },
  {
   "cell_type": "code",
   "execution_count": 38,
   "metadata": {},
   "outputs": [
    {
     "data": {
      "text/plain": [
       "(5418, 284)"
      ]
     },
     "execution_count": 38,
     "metadata": {},
     "output_type": "execute_result"
    }
   ],
   "source": [
    "featuremat2.shape"
   ]
  },
  {
   "cell_type": "code",
   "execution_count": 39,
   "metadata": {},
   "outputs": [],
   "source": [
    "np.save('feature_mat2',featuremat2)"
   ]
  },
  {
   "cell_type": "markdown",
   "metadata": {},
   "source": [
    "text features :"
   ]
  },
  {
   "cell_type": "code",
   "execution_count": 13,
   "metadata": {},
   "outputs": [
    {
     "data": {
      "text/plain": [
       "(5418, 1024)"
      ]
     },
     "execution_count": 13,
     "metadata": {},
     "output_type": "execute_result"
    }
   ],
   "source": [
    "text_feature = np.load('../data/processed/text_embedding.npy')\n",
    "text_feature.shape"
   ]
  },
  {
   "cell_type": "markdown",
   "metadata": {},
   "source": [
    "dimension reduction using `PCA` :"
   ]
  },
  {
   "cell_type": "code",
   "execution_count": 14,
   "metadata": {},
   "outputs": [],
   "source": [
    "from sklearn.decomposition import PCA\n",
    "pca = PCA(n_components=200)  # number of components  \n",
    "text_feature_reduced = pca.fit_transform(text_feature)"
   ]
  },
  {
   "cell_type": "code",
   "execution_count": 15,
   "metadata": {},
   "outputs": [
    {
     "data": {
      "text/plain": [
       "(5418, 200)"
      ]
     },
     "execution_count": 15,
     "metadata": {},
     "output_type": "execute_result"
    }
   ],
   "source": [
    "text_feature_reduced.shape"
   ]
  },
  {
   "cell_type": "code",
   "execution_count": 36,
   "metadata": {},
   "outputs": [],
   "source": [
    "featuremat3 = np.concatenate((AE_feature,beta,one_hot_encoded_country,\n",
    "                              one_hot_encoded_sector,one_hot_encoded_industry,text_feature_reduced),axis=1)"
   ]
  },
  {
   "cell_type": "code",
   "execution_count": 37,
   "metadata": {},
   "outputs": [],
   "source": [
    "np.save('feature_mat3',featuremat3)"
   ]
  },
  {
   "cell_type": "code",
   "execution_count": 22,
   "metadata": {},
   "outputs": [
    {
     "data": {
      "text/plain": [
       "(-13.968533, 107.943634)"
      ]
     },
     "execution_count": 22,
     "metadata": {},
     "output_type": "execute_result"
    }
   ],
   "source": [
    "beta.min(),beta.max()"
   ]
  },
  {
   "cell_type": "code",
   "execution_count": 30,
   "metadata": {},
   "outputs": [
    {
     "data": {
      "text/plain": [
       "(-9503.501, 28.662866186299006)"
      ]
     },
     "execution_count": 30,
     "metadata": {},
     "output_type": "execute_result"
    }
   ],
   "source": [
    "forwardPE.min(),forwardPE.mean()"
   ]
  }
 ],
 "metadata": {
  "kernelspec": {
   "display_name": "Python 3.7.13 ('py37')",
   "language": "python",
   "name": "python3"
  },
  "language_info": {
   "codemirror_mode": {
    "name": "ipython",
    "version": 3
   },
   "file_extension": ".py",
   "mimetype": "text/x-python",
   "name": "python",
   "nbconvert_exporter": "python",
   "pygments_lexer": "ipython3",
   "version": "3.7.13"
  },
  "orig_nbformat": 4,
  "vscode": {
   "interpreter": {
    "hash": "550b73d17028e65cfbd266e0c945d7274f18a7a366e249c5ab11fc4eb0cd2459"
   }
  }
 },
 "nbformat": 4,
 "nbformat_minor": 2
}
